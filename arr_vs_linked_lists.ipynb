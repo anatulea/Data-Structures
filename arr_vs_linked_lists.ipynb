{
 "metadata": {
  "language_info": {
   "codemirror_mode": {
    "name": "ipython",
    "version": 3
   },
   "file_extension": ".py",
   "mimetype": "text/x-python",
   "name": "python",
   "nbconvert_exporter": "python",
   "pygments_lexer": "ipython3",
   "version": "3.8.3-final"
  },
  "orig_nbformat": 2,
  "kernelspec": {
   "name": "python_defaultSpec_1600725056554",
   "display_name": "Python 3.8.3 64-bit ('base': conda)"
  }
 },
 "nbformat": 4,
 "nbformat_minor": 2,
 "cells": [
  {
   "source": [
    "## Runtime of Array\n",
    "- access : constant -- array is continous, so we can jump directly to the index\n",
    "- add :\n",
    "    - in the middle : linear\n",
    "    - at the head or tail : linear \n",
    "- delete:\n",
    "    - from th emiddle : linear\n",
    "    - head :linear\n",
    "    - tail : constant\n",
    "- search : linear \n",
    "\n",
    "## Runtime of Linked List\n",
    "- access : linear -- we have to iterate through the whole list\n",
    "- add :\n",
    "    - in the middle : linear\n",
    "    - at the head or tail : constant \n",
    "- delete:\n",
    "    - from th emiddle : linear -- iterate to the spot \n",
    "    - head :constant\n",
    "    - tail : constant -- iterate to second to last \n",
    "- search : linear \n"
   ],
   "cell_type": "markdown",
   "metadata": {}
  },
  {
   "cell_type": "code",
   "execution_count": null,
   "metadata": {},
   "outputs": [],
   "source": []
  }
 ]
}